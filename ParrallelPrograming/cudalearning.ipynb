{
  "cells": [
    {
      "cell_type": "code",
      "execution_count": 2,
      "metadata": {
        "colab": {
          "base_uri": "https://localhost:8080/"
        },
        "id": "QNnhSdqs5qBr",
        "outputId": "92750078-0068-4453-ea13-6776a97567d1"
      },
      "outputs": [
        {
          "name": "stdout",
          "output_type": "stream",
          "text": [
            "nvcc: NVIDIA (R) Cuda compiler driver\n",
            "Copyright (c) 2005-2022 NVIDIA Corporation\n",
            "Built on Wed_Sep_21_10:33:58_PDT_2022\n",
            "Cuda compilation tools, release 11.8, V11.8.89\n",
            "Build cuda_11.8.r11.8/compiler.31833905_0\n"
          ]
        }
      ],
      "source": [
        "!nvcc --version"
      ]
    },
    {
      "cell_type": "code",
      "execution_count": null,
      "metadata": {
        "colab": {
          "base_uri": "https://localhost:8080/"
        },
        "id": "Dol0kHck6Q16",
        "outputId": "27de6c7b-2087-495c-da22-ca61ec1cbdcc"
      },
      "outputs": [],
      "source": [
        "!pip install git+https://github.com/andreinechaev/nvcc4jupyter.git"
      ]
    },
    {
      "cell_type": "code",
      "execution_count": 4,
      "metadata": {
        "colab": {
          "base_uri": "https://localhost:8080/"
        },
        "id": "Rg8xfqE9Z6k4",
        "outputId": "9a454739-89bf-43ad-a6ea-f7743b2b17f6"
      },
      "outputs": [
        {
          "name": "stdout",
          "output_type": "stream",
          "text": [
            "created output directory at /content/src\n",
            "Out bin /content/result.out\n"
          ]
        }
      ],
      "source": [
        "%load_ext nvcc_plugin"
      ]
    },
    {
      "cell_type": "code",
      "execution_count": 6,
      "metadata": {
        "colab": {
          "base_uri": "https://localhost:8080/",
          "height": 35
        },
        "id": "qrUDiwFzaB2K",
        "outputId": "0df47926-19e0-4ca4-c60b-ff88080e3196"
      },
      "outputs": [
        {
          "data": {
            "application/vnd.google.colaboratory.intrinsic+json": {
              "type": "string"
            },
            "text/plain": [
              "'File written in /content/src/testGoogleColab.cu'"
            ]
          },
          "execution_count": 6,
          "metadata": {},
          "output_type": "execute_result"
        }
      ],
      "source": [
        "%%cuda --name testGoogleColab.cu\n",
        "#include <iostream>\n",
        "#include <cstdlib>\n",
        "\n",
        "#define N (2048 * 2048)\n",
        "#define THREADS_PER_BLOCK 512\n",
        "#define RADIUS 2 // Define the stencil radius\n",
        "\n",
        "// Function to generate random integers and fill the array\n",
        "__host__ void random_ints(int* array, int size) {\n",
        "    // Set the seed for the random number generator\n",
        "    srand(time(NULL));\n",
        "\n",
        "    for (int i = 0; i < size; i++) {\n",
        "        array[i] = rand() % 100; // Generate random integers between 0 and 99 (adjust as needed)\n",
        "    }\n",
        "}\n",
        "\n",
        "__global__ void stencil_1d(int *in, int *out, int n)\n",
        "{\n",
        "    __shared__ int temp[THREADS_PER_BLOCK + 2 * RADIUS];\n",
        "    int gindex = threadIdx.x + blockIdx.x * blockDim.x;\n",
        "    int lindex = threadIdx.x + RADIUS;\n",
        "    temp[lindex] = in[gindex];\n",
        "\n",
        "    // Check if threadIdx.x is less than RADIUS\n",
        "    if (threadIdx.x < RADIUS)\n",
        "    {\n",
        "        // Ensure that the indices are within bounds before accessing the array\n",
        "        if (lindex - RADIUS >= 0)\n",
        "            temp[lindex - RADIUS] = in[gindex - RADIUS];\n",
        "        if (lindex + THREADS_PER_BLOCK < n)\n",
        "            temp[lindex + THREADS_PER_BLOCK] = in[gindex + THREADS_PER_BLOCK];\n",
        "    }\n",
        "    __syncthreads();\n",
        "\n",
        "    int result = 0;\n",
        "    for (int offset = -RADIUS; offset <= RADIUS; offset++)\n",
        "    {\n",
        "        int neighborIndex = lindex + offset;\n",
        "        if (neighborIndex >= 0 && neighborIndex < THREADS_PER_BLOCK + 2 * RADIUS)\n",
        "            result += temp[neighborIndex];\n",
        "    }\n",
        "\n",
        "    // Store the result\n",
        "    out[gindex] = result;\n",
        "}\n",
        "\n",
        "\n",
        "int main(void)\n",
        "{\n",
        "    int *a, *b;       // host copies of a, b, c\n",
        "    int *d_a, *d_b; // device copies of a, b, c\n",
        "    int size = N * sizeof(int);\n",
        "\n",
        "    // Allocate space for host copies of a, b, c and setup input values\n",
        "    a = (int *)malloc(size);\n",
        "    random_ints(a, N);\n",
        "\n",
        "    b = (int *)malloc(size);\n",
        "\n",
        "    cudaMalloc((void **)&d_a, size);\n",
        "    cudaMemcpy(d_a, a, size, cudaMemcpyHostToDevice);\n",
        "    cudaMalloc((void **)&d_b, size);\n",
        "\n",
        "\n",
        "    // Launch add() kernel on GPU\n",
        "    stencil_1d<<<N  / THREADS_PER_BLOCK, THREADS_PER_BLOCK>>>(d_a, d_b, N);\n",
        "\n",
        "    // Copy result back to host\n",
        "    cudaMemcpy(b, d_b, size, cudaMemcpyDeviceToHost);\n",
        "\n",
        "    // Print part of the result\n",
        "    std::cout<<\"first 30 origin data is:\"<<std::endl;\n",
        "    for (int i = 0; i < 30; i++) {\n",
        "        std::cout << a[i] << \" \";\n",
        "    }\n",
        "    std::cout << std::endl;\n",
        "\n",
        "    std::cout<<\"when radius is \"<<RADIUS<<\"first 30 stenciled data is:\"<<std::endl;\n",
        "    for (int i = 0; i < 30; i++) {\n",
        "        std::cout << b[i] << \" \";\n",
        "    }\n",
        "    std::cout << std::endl;\n",
        "\n",
        "    std::cout<<\"last 30 origin data is:\"<<std::endl;\n",
        "    for (int i = N-30; i < N; i++) {\n",
        "        std::cout << a[i] << \" \";\n",
        "    }\n",
        "    std::cout << std::endl;\n",
        "\n",
        "    std::cout<<\"when radius is \"<<RADIUS<<\" last 30 stenciled data is:\"<<std::endl;\n",
        "    for (int i = N-30; i < N; i++) {\n",
        "        std::cout << b[i] << \" \";\n",
        "    }\n",
        "    std::cout << std::endl;\n",
        "\n",
        "    srand(time(NULL));\n",
        "    int middle =(rand()%100)*(rand()%100);\n",
        "    std::cout<<\"from \"<<middle<<\" middle 30 origin data is:\"<<std::endl;\n",
        "    for (int i = middle-30; i < middle; i++) {\n",
        "        std::cout << a[i] << \" \";\n",
        "    }\n",
        "    std::cout << std::endl;\n",
        "\n",
        "    std::cout<<\"when radius is \"<<RADIUS<<\" middle 30 stenciled data is:\"<<std::endl;\n",
        "    for (int i = middle-30; i < middle; i++) {\n",
        "        std::cout << b[i] << \" \";\n",
        "    }\n",
        "    std::cout << std::endl;\n",
        "\n",
        "    // Cleanup\n",
        "    free(a);\n",
        "    free(b);\n",
        "    cudaFree(d_a);\n",
        "    cudaFree(d_b);\n",
        "\n",
        "    return 0;\n",
        "}"
      ]
    },
    {
      "cell_type": "markdown",
      "metadata": {
        "id": "I72jBiTlav__"
      },
      "source": [
        "# New Section"
      ]
    },
    {
      "cell_type": "code",
      "execution_count": 7,
      "metadata": {
        "id": "d1nQtWB_bndy"
      },
      "outputs": [],
      "source": [
        "!nvcc -arch=sm_75 -o \"/content/src/testGoogleColab.o\" /content/src/testGoogleColab.cu"
      ]
    },
    {
      "cell_type": "code",
      "execution_count": 8,
      "metadata": {
        "colab": {
          "base_uri": "https://localhost:8080/"
        },
        "id": "S4n6o-XhbtbD",
        "outputId": "0d27924a-e5bd-4026-8650-e60046e9e96f"
      },
      "outputs": [
        {
          "name": "stdout",
          "output_type": "stream",
          "text": [
            "first 30 origin data is:\n",
            "19 12 14 58 16 4 72 82 11 77 58 27 84 10 81 57 69 69 69 49 17 28 53 61 49 25 75 20 78 8 \n",
            "when radius is 2first 30 stenciled data is:\n",
            "45 103 119 104 164 232 185 246 300 255 257 256 260 259 301 286 345 313 273 232 216 208 208 216 263 230 247 206 256 230 \n",
            "last 30 origin data is:\n",
            "37 70 22 52 95 72 75 33 98 49 30 57 50 50 82 83 36 61 89 37 88 60 81 97 23 4 89 46 86 7 \n",
            "when radius is 2 last 30 stenciled data is:\n",
            "225 259 276 311 316 327 373 327 285 267 284 236 269 322 301 312 351 306 311 335 355 363 349 265 294 259 248 232 228 139 \n",
            "from 7920 middle 30 origin data is:\n",
            "12 34 70 76 13 77 67 81 52 73 19 98 40 68 39 97 86 59 25 4 21 46 54 90 38 81 10 3 46 68 \n",
            "when radius is 2 middle 30 stenciled data is:\n",
            "178 248 205 270 303 314 290 350 292 323 282 298 264 342 330 349 306 271 195 155 150 215 249 309 273 222 178 208 187 188 \n"
          ]
        }
      ],
      "source": [
        "!chmod 755 /content/src/testGoogleColab.o\n",
        "!/content/src/testGoogleColab.o"
      ]
    }
  ],
  "metadata": {
    "accelerator": "GPU",
    "colab": {
      "gpuType": "T4",
      "provenance": []
    },
    "kernelspec": {
      "display_name": "Python 3",
      "name": "python3"
    },
    "language_info": {
      "name": "python"
    }
  },
  "nbformat": 4,
  "nbformat_minor": 0
}
